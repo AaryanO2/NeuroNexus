{
 "cells": [
  {
   "cell_type": "code",
   "execution_count": 4,
   "id": "322222cb-95da-42b8-b4c8-fffee59d5161",
   "metadata": {},
   "outputs": [],
   "source": [
    "import sqlite3\n",
    "import pandas as pd\n",
    "import matplotlib.pyplot as plt\n",
    "import numpy as np\n",
    "import string\n",
    "import nltk\n",
    "from sklearn.feature_extraction.text import TfidfTransformer\n",
    "from sklearn.feature_extraction.text import TfidfVectorizer\n",
    "from sklearn.feature_extraction.text import CountVectorizer\n",
    "from sklearn.metrics import confusion_matrix\n",
    "from sklearn import metrics\n",
    "from sklearn.metrics import roc_curve, auc\n",
    "from nltk.stem.porter import PorterStemmer"
   ]
  },
  {
   "cell_type": "code",
   "execution_count": null,
   "id": "bf0e6c61-02fc-4ea5-8098-8e1fa2d12865",
   "metadata": {},
   "outputs": [],
   "source": []
  },
  {
   "cell_type": "code",
   "execution_count": 5,
   "id": "a1e8e17e-5407-4201-90b5-bb5b481701a0",
   "metadata": {},
   "outputs": [],
   "source": [
    "raw_filtered_data = pd.DataFrame(columns = [\"Title\",\"Genre\",\"Description\"])"
   ]
  },
  {
   "cell_type": "code",
   "execution_count": 6,
   "id": "128cd51d-7520-4516-8a99-962adfebca47",
   "metadata": {
    "tags": []
   },
   "outputs": [],
   "source": [
    "with open('train_data.txt','r', encoding='utf-8') as file:\n",
    "    for i in file:  \n",
    "        raw_filtered_data.loc[len(raw_filtered_data)] = i[6::].split(\" ::: \")"
   ]
  },
  {
   "cell_type": "code",
   "execution_count": 7,
   "id": "ebebda6d-26b6-4a82-9a71-c53e3b575603",
   "metadata": {
    "tags": []
   },
   "outputs": [
    {
     "data": {
      "text/html": [
       "<div>\n",
       "<style scoped>\n",
       "    .dataframe tbody tr th:only-of-type {\n",
       "        vertical-align: middle;\n",
       "    }\n",
       "\n",
       "    .dataframe tbody tr th {\n",
       "        vertical-align: top;\n",
       "    }\n",
       "\n",
       "    .dataframe thead th {\n",
       "        text-align: right;\n",
       "    }\n",
       "</style>\n",
       "<table border=\"1\" class=\"dataframe\">\n",
       "  <thead>\n",
       "    <tr style=\"text-align: right;\">\n",
       "      <th></th>\n",
       "      <th>Title</th>\n",
       "      <th>Genre</th>\n",
       "      <th>Description</th>\n",
       "    </tr>\n",
       "  </thead>\n",
       "  <tbody>\n",
       "    <tr>\n",
       "      <th>0</th>\n",
       "      <td>Oscar et la dame rose (2009)</td>\n",
       "      <td>drama</td>\n",
       "      <td>Listening in to a conversation between his doc...</td>\n",
       "    </tr>\n",
       "    <tr>\n",
       "      <th>1</th>\n",
       "      <td>Cupid (1997)</td>\n",
       "      <td>thriller</td>\n",
       "      <td>A brother and sister with a past incestuous re...</td>\n",
       "    </tr>\n",
       "    <tr>\n",
       "      <th>2</th>\n",
       "      <td>Young, Wild and Wonderful (1980)</td>\n",
       "      <td>adult</td>\n",
       "      <td>As the bus empties the students for their fiel...</td>\n",
       "    </tr>\n",
       "    <tr>\n",
       "      <th>3</th>\n",
       "      <td>The Secret Sin (1915)</td>\n",
       "      <td>drama</td>\n",
       "      <td>To help their unemployed father make ends meet...</td>\n",
       "    </tr>\n",
       "    <tr>\n",
       "      <th>4</th>\n",
       "      <td>The Unrecovered (2007)</td>\n",
       "      <td>drama</td>\n",
       "      <td>The film's title refers not only to the un-rec...</td>\n",
       "    </tr>\n",
       "    <tr>\n",
       "      <th>...</th>\n",
       "      <td>...</td>\n",
       "      <td>...</td>\n",
       "      <td>...</td>\n",
       "    </tr>\n",
       "    <tr>\n",
       "      <th>54209</th>\n",
       "      <td>::: \"Bonino\" (1953)</td>\n",
       "      <td>comedy</td>\n",
       "      <td>This short-lived NBC live sitcom centered on B...</td>\n",
       "    </tr>\n",
       "    <tr>\n",
       "      <th>54210</th>\n",
       "      <td>::: Dead Girls Don't Cry (????)</td>\n",
       "      <td>horror</td>\n",
       "      <td>The NEXT Generation of EXPLOITATION. The siste...</td>\n",
       "    </tr>\n",
       "    <tr>\n",
       "      <th>54211</th>\n",
       "      <td>::: Ronald Goedemondt: Ze bestaan echt (2008)</td>\n",
       "      <td>documentary</td>\n",
       "      <td>Ze bestaan echt, is a stand-up comedy about gr...</td>\n",
       "    </tr>\n",
       "    <tr>\n",
       "      <th>54212</th>\n",
       "      <td>::: Make Your Own Bed (1944)</td>\n",
       "      <td>comedy</td>\n",
       "      <td>Walter and Vivian live in the country and have...</td>\n",
       "    </tr>\n",
       "    <tr>\n",
       "      <th>54213</th>\n",
       "      <td>::: Nature's Fury: Storm of the Century (2006)</td>\n",
       "      <td>history</td>\n",
       "      <td>On Labor Day Weekend, 1935, the most intense h...</td>\n",
       "    </tr>\n",
       "  </tbody>\n",
       "</table>\n",
       "<p>54214 rows × 3 columns</p>\n",
       "</div>"
      ],
      "text/plain": [
       "                                                Title        Genre  \\\n",
       "0                        Oscar et la dame rose (2009)        drama   \n",
       "1                                        Cupid (1997)     thriller   \n",
       "2                    Young, Wild and Wonderful (1980)        adult   \n",
       "3                               The Secret Sin (1915)        drama   \n",
       "4                              The Unrecovered (2007)        drama   \n",
       "...                                               ...          ...   \n",
       "54209                             ::: \"Bonino\" (1953)       comedy   \n",
       "54210                 ::: Dead Girls Don't Cry (????)       horror   \n",
       "54211   ::: Ronald Goedemondt: Ze bestaan echt (2008)  documentary   \n",
       "54212                    ::: Make Your Own Bed (1944)       comedy   \n",
       "54213  ::: Nature's Fury: Storm of the Century (2006)      history   \n",
       "\n",
       "                                             Description  \n",
       "0      Listening in to a conversation between his doc...  \n",
       "1      A brother and sister with a past incestuous re...  \n",
       "2      As the bus empties the students for their fiel...  \n",
       "3      To help their unemployed father make ends meet...  \n",
       "4      The film's title refers not only to the un-rec...  \n",
       "...                                                  ...  \n",
       "54209  This short-lived NBC live sitcom centered on B...  \n",
       "54210  The NEXT Generation of EXPLOITATION. The siste...  \n",
       "54211  Ze bestaan echt, is a stand-up comedy about gr...  \n",
       "54212  Walter and Vivian live in the country and have...  \n",
       "54213  On Labor Day Weekend, 1935, the most intense h...  \n",
       "\n",
       "[54214 rows x 3 columns]"
      ]
     },
     "execution_count": 7,
     "metadata": {},
     "output_type": "execute_result"
    }
   ],
   "source": [
    "raw_filtered_data"
   ]
  },
  {
   "cell_type": "code",
   "execution_count": 8,
   "id": "0f69d5f3-182c-4bf7-849e-3bb396f58c8d",
   "metadata": {
    "tags": []
   },
   "outputs": [
    {
     "name": "stdout",
     "output_type": "stream",
     "text": [
      "27\n"
     ]
    },
    {
     "data": {
      "text/plain": [
       "array(['drama', 'thriller', 'adult', 'documentary', 'comedy', 'crime',\n",
       "       'reality-tv', 'horror', 'sport', 'animation', 'action', 'fantasy',\n",
       "       'short', 'sci-fi', 'music', 'adventure', 'talk-show', 'western',\n",
       "       'family', 'mystery', 'history', 'news', 'biography', 'romance',\n",
       "       'game-show', 'musical', 'war'], dtype=object)"
      ]
     },
     "execution_count": 8,
     "metadata": {},
     "output_type": "execute_result"
    }
   ],
   "source": [
    "print(len(raw_filtered_data['Genre'].unique()))\n",
    "raw_filtered_data['Genre'].unique()"
   ]
  },
  {
   "cell_type": "code",
   "execution_count": 9,
   "id": "c409bbdf-c510-46a4-9be1-561915ea6f00",
   "metadata": {
    "tags": []
   },
   "outputs": [],
   "source": [
    "genres = ['thriller', 'comedy', 'documentary', 'drama', 'horror', 'short',\n",
    "       'western', 'family', 'sport', 'romance', 'war', 'game-show',\n",
    "       'biography', 'adult', 'talk-show', 'action', 'music', 'crime',\n",
    "       'animation', 'sci-fi', 'adventure', 'reality-tv', 'fantasy',\n",
    "       'mystery', 'history', 'news', 'musical']\n",
    "\n",
    "genre_to_int = {genre: i for i, genre in enumerate(genres)}"
   ]
  },
  {
   "cell_type": "code",
   "execution_count": 10,
   "id": "f73fe62e-9cec-4ca7-a633-985005ff41c4",
   "metadata": {},
   "outputs": [],
   "source": [
    "def make_label(x):\n",
    "    return genre_to_int[x];"
   ]
  },
  {
   "cell_type": "code",
   "execution_count": 11,
   "id": "109649d5-a17d-4c21-9287-13082302fa90",
   "metadata": {
    "tags": []
   },
   "outputs": [
    {
     "data": {
      "text/html": [
       "<div>\n",
       "<style scoped>\n",
       "    .dataframe tbody tr th:only-of-type {\n",
       "        vertical-align: middle;\n",
       "    }\n",
       "\n",
       "    .dataframe tbody tr th {\n",
       "        vertical-align: top;\n",
       "    }\n",
       "\n",
       "    .dataframe thead th {\n",
       "        text-align: right;\n",
       "    }\n",
       "</style>\n",
       "<table border=\"1\" class=\"dataframe\">\n",
       "  <thead>\n",
       "    <tr style=\"text-align: right;\">\n",
       "      <th></th>\n",
       "      <th>Title</th>\n",
       "      <th>Genre</th>\n",
       "      <th>Description</th>\n",
       "    </tr>\n",
       "  </thead>\n",
       "  <tbody>\n",
       "    <tr>\n",
       "      <th>0</th>\n",
       "      <td>Oscar et la dame rose (2009)</td>\n",
       "      <td>3</td>\n",
       "      <td>Listening in to a conversation between his doc...</td>\n",
       "    </tr>\n",
       "    <tr>\n",
       "      <th>1</th>\n",
       "      <td>Cupid (1997)</td>\n",
       "      <td>0</td>\n",
       "      <td>A brother and sister with a past incestuous re...</td>\n",
       "    </tr>\n",
       "    <tr>\n",
       "      <th>2</th>\n",
       "      <td>Young, Wild and Wonderful (1980)</td>\n",
       "      <td>13</td>\n",
       "      <td>As the bus empties the students for their fiel...</td>\n",
       "    </tr>\n",
       "    <tr>\n",
       "      <th>3</th>\n",
       "      <td>The Secret Sin (1915)</td>\n",
       "      <td>3</td>\n",
       "      <td>To help their unemployed father make ends meet...</td>\n",
       "    </tr>\n",
       "    <tr>\n",
       "      <th>4</th>\n",
       "      <td>The Unrecovered (2007)</td>\n",
       "      <td>3</td>\n",
       "      <td>The film's title refers not only to the un-rec...</td>\n",
       "    </tr>\n",
       "    <tr>\n",
       "      <th>...</th>\n",
       "      <td>...</td>\n",
       "      <td>...</td>\n",
       "      <td>...</td>\n",
       "    </tr>\n",
       "    <tr>\n",
       "      <th>54209</th>\n",
       "      <td>::: \"Bonino\" (1953)</td>\n",
       "      <td>1</td>\n",
       "      <td>This short-lived NBC live sitcom centered on B...</td>\n",
       "    </tr>\n",
       "    <tr>\n",
       "      <th>54210</th>\n",
       "      <td>::: Dead Girls Don't Cry (????)</td>\n",
       "      <td>4</td>\n",
       "      <td>The NEXT Generation of EXPLOITATION. The siste...</td>\n",
       "    </tr>\n",
       "    <tr>\n",
       "      <th>54211</th>\n",
       "      <td>::: Ronald Goedemondt: Ze bestaan echt (2008)</td>\n",
       "      <td>2</td>\n",
       "      <td>Ze bestaan echt, is a stand-up comedy about gr...</td>\n",
       "    </tr>\n",
       "    <tr>\n",
       "      <th>54212</th>\n",
       "      <td>::: Make Your Own Bed (1944)</td>\n",
       "      <td>1</td>\n",
       "      <td>Walter and Vivian live in the country and have...</td>\n",
       "    </tr>\n",
       "    <tr>\n",
       "      <th>54213</th>\n",
       "      <td>::: Nature's Fury: Storm of the Century (2006)</td>\n",
       "      <td>24</td>\n",
       "      <td>On Labor Day Weekend, 1935, the most intense h...</td>\n",
       "    </tr>\n",
       "  </tbody>\n",
       "</table>\n",
       "<p>54214 rows × 3 columns</p>\n",
       "</div>"
      ],
      "text/plain": [
       "                                                Title  Genre  \\\n",
       "0                        Oscar et la dame rose (2009)      3   \n",
       "1                                        Cupid (1997)      0   \n",
       "2                    Young, Wild and Wonderful (1980)     13   \n",
       "3                               The Secret Sin (1915)      3   \n",
       "4                              The Unrecovered (2007)      3   \n",
       "...                                               ...    ...   \n",
       "54209                             ::: \"Bonino\" (1953)      1   \n",
       "54210                 ::: Dead Girls Don't Cry (????)      4   \n",
       "54211   ::: Ronald Goedemondt: Ze bestaan echt (2008)      2   \n",
       "54212                    ::: Make Your Own Bed (1944)      1   \n",
       "54213  ::: Nature's Fury: Storm of the Century (2006)     24   \n",
       "\n",
       "                                             Description  \n",
       "0      Listening in to a conversation between his doc...  \n",
       "1      A brother and sister with a past incestuous re...  \n",
       "2      As the bus empties the students for their fiel...  \n",
       "3      To help their unemployed father make ends meet...  \n",
       "4      The film's title refers not only to the un-rec...  \n",
       "...                                                  ...  \n",
       "54209  This short-lived NBC live sitcom centered on B...  \n",
       "54210  The NEXT Generation of EXPLOITATION. The siste...  \n",
       "54211  Ze bestaan echt, is a stand-up comedy about gr...  \n",
       "54212  Walter and Vivian live in the country and have...  \n",
       "54213  On Labor Day Weekend, 1935, the most intense h...  \n",
       "\n",
       "[54214 rows x 3 columns]"
      ]
     },
     "execution_count": 11,
     "metadata": {},
     "output_type": "execute_result"
    }
   ],
   "source": [
    "raw_filtered_data['Genre'] = raw_filtered_data['Genre'].map(make_label)\n",
    "raw_filtered_data"
   ]
  },
  {
   "cell_type": "code",
   "execution_count": 12,
   "id": "9c8a4b41-f55e-48f7-92b2-974da78f9902",
   "metadata": {
    "tags": []
   },
   "outputs": [
    {
     "name": "stdout",
     "output_type": "stream",
     "text": [
      "Shape Before: (54214, 3)\n",
      "Shape After:  (54214, 3)\n"
     ]
    }
   ],
   "source": [
    "print(f\"Shape Before: {raw_filtered_data.shape}\")\n",
    "final_filtered_data = raw_filtered_data.drop_duplicates(subset=[\"Title\"], keep='first', inplace=False)\n",
    "print(f\"Shape After:  {final_filtered_data.shape}\")"
   ]
  },
  {
   "cell_type": "code",
   "execution_count": 13,
   "id": "2132bca5-0e53-4793-bda2-f5101aadb241",
   "metadata": {
    "tags": []
   },
   "outputs": [],
   "source": [
    "count_vect = CountVectorizer() # To compute Bag of Words representation(from scikit-learn) \n",
    "final_counts = count_vect.fit_transform(final_filtered_data['Description'].values)"
   ]
  },
  {
   "cell_type": "code",
   "execution_count": 14,
   "id": "4626e137-adcc-4acd-8d97-2f9530a07234",
   "metadata": {
    "tags": []
   },
   "outputs": [],
   "source": [
    "import re\n",
    "import string \n",
    "from nltk.stem import SnowballStemmer\n",
    "from nltk.stem.wordnet import WordNetLemmatizer"
   ]
  },
  {
   "cell_type": "code",
   "execution_count": 15,
   "id": "e7696d99-c931-45de-a849-6ce92a8c00df",
   "metadata": {
    "tags": []
   },
   "outputs": [],
   "source": [
    "stop_words = stopwords = {\n",
    "    'a', 'about', 'above', 'after', 'against', 'all', 'am', 'an', 'and', 'any', 'are', 'as', 'at', 'be', 'been', 'before',\n",
    "    'being', 'below', 'between', 'both', 'but', 'by', 'can', 'd', 'do', 'does', 'doing', 'don', 'down', 'during', 'each',\n",
    "    'few', 'for', 'from', 'had', 'has', 'have', 'having', 'he', 'her', 'here', 'hers', 'herself', 'him', 'himself', 'his',\n",
    "    'how', 'i', 'if', 'in', 'into', 'is', 'it', 'its', 'itself', 'just', 'll', 'm', 'ma', 'me', 'more', 'most', 'my',\n",
    "    'myself', 'no', 'nor', 'not', 'now', 'o', 'of', 'off', 'on', 'once', 'only', 'or', 'other', 'our', 'ours', 'ourselves',\n",
    "    'out', 'over', 'own', 're', 's', 'same', 'she', 'should', 'so', 'some', 'such', 't', 'than', 'that', 'the', 'their',\n",
    "    'theirs', 'them', 'themselves', 'then', 'there', 'these', 'they', 'this', 'those', 'through', 'to', 'too', 'under',\n",
    "    'until', 'up', 've', 'very', 'was', 'we', 'were', 'what', 'when', 'where', 'which', 'while', 'who', 'whom', 'why',\n",
    "    'will', 'with', 'y', 'you', 'your', 'yours', 'yourself', 'yourselves'\n",
    "}\n",
    "snow = nltk.stem.SnowballStemmer('english')"
   ]
  },
  {
   "cell_type": "code",
   "execution_count": 16,
   "id": "8c707971-68d4-401c-a183-f3ac5e65df66",
   "metadata": {
    "tags": []
   },
   "outputs": [],
   "source": [
    "def cleanhtml(sentence):\n",
    "    cleanr = re.compile('<.*?>')\n",
    "    cleantext = re.sub(cleanr,' ',sentence)\n",
    "    return cleantext\n",
    "\n",
    "def clean_punctuation(sentence):\n",
    "    cleaned = re.sub(r'[?|!|\\'|\"|#]',r'',sentence)\n",
    "    cleaned = re.sub(r'[.|,|)|(|\\|/]',r' ',cleaned)\n",
    "    return cleaned"
   ]
  },
  {
   "cell_type": "code",
   "execution_count": 17,
   "id": "e0fc17cb-abe4-4388-bb85-c351cfcdc7b5",
   "metadata": {
    "tags": []
   },
   "outputs": [],
   "source": [
    "genre_words = [[] for _ in range(27)]"
   ]
  },
  {
   "cell_type": "code",
   "execution_count": 18,
   "id": "c1f2b6ab-6932-4262-9196-b991556af05d",
   "metadata": {
    "tags": []
   },
   "outputs": [],
   "source": [
    "i=0\n",
    "all_spam_words = []\n",
    "all_normal_words = []\n",
    "final_strings = []\n",
    "s = ''\n",
    "for sent in final_filtered_data['Description']:\n",
    "    filtered_sentence = []\n",
    "    sent= cleanhtml(sent)\n",
    "    for w in sent.split():\n",
    "        cleaned_word = clean_punctuation(w)\n",
    "        if((cleaned_word.isalpha()) & (len(cleaned_word)>2)):\n",
    "            s = (snow.stem(cleaned_word.lower())).encode('utf8')\n",
    "            filtered_sentence.append(s)\n",
    "            genre_words[(final_filtered_data['Genre'].values)[i]].append(s);\n",
    "    strl = b\" \".join(filtered_sentence) \n",
    "    final_strings.append(strl)  \n",
    "    i+=1"
   ]
  },
  {
   "cell_type": "code",
   "execution_count": 19,
   "id": "d3a7e221-11fd-47a8-a2e2-edb1ab89c0b6",
   "metadata": {
    "tags": []
   },
   "outputs": [],
   "source": [
    "final_filtered_data = final_filtered_data.copy()\n",
    "final_filtered_data['Cleaned_Description'] = final_strings"
   ]
  },
  {
   "cell_type": "code",
   "execution_count": 20,
   "id": "5d34f684-62ec-4295-a343-cf3d25e3ca1e",
   "metadata": {
    "tags": []
   },
   "outputs": [
    {
     "data": {
      "text/html": [
       "<div>\n",
       "<style scoped>\n",
       "    .dataframe tbody tr th:only-of-type {\n",
       "        vertical-align: middle;\n",
       "    }\n",
       "\n",
       "    .dataframe tbody tr th {\n",
       "        vertical-align: top;\n",
       "    }\n",
       "\n",
       "    .dataframe thead th {\n",
       "        text-align: right;\n",
       "    }\n",
       "</style>\n",
       "<table border=\"1\" class=\"dataframe\">\n",
       "  <thead>\n",
       "    <tr style=\"text-align: right;\">\n",
       "      <th></th>\n",
       "      <th>Title</th>\n",
       "      <th>Genre</th>\n",
       "      <th>Description</th>\n",
       "      <th>Cleaned_Description</th>\n",
       "    </tr>\n",
       "  </thead>\n",
       "  <tbody>\n",
       "    <tr>\n",
       "      <th>0</th>\n",
       "      <td>Oscar et la dame rose (2009)</td>\n",
       "      <td>3</td>\n",
       "      <td>Listening in to a conversation between his doc...</td>\n",
       "      <td>b'listen convers between his doctor and oscar ...</td>\n",
       "    </tr>\n",
       "    <tr>\n",
       "      <th>1</th>\n",
       "      <td>Cupid (1997)</td>\n",
       "      <td>0</td>\n",
       "      <td>A brother and sister with a past incestuous re...</td>\n",
       "      <td>b'brother and sister with past incestu relatio...</td>\n",
       "    </tr>\n",
       "    <tr>\n",
       "      <th>2</th>\n",
       "      <td>Young, Wild and Wonderful (1980)</td>\n",
       "      <td>13</td>\n",
       "      <td>As the bus empties the students for their fiel...</td>\n",
       "      <td>b'the bus empti the student for their field tr...</td>\n",
       "    </tr>\n",
       "    <tr>\n",
       "      <th>3</th>\n",
       "      <td>The Secret Sin (1915)</td>\n",
       "      <td>3</td>\n",
       "      <td>To help their unemployed father make ends meet...</td>\n",
       "      <td>b'help their unemploy father make end edith an...</td>\n",
       "    </tr>\n",
       "    <tr>\n",
       "      <th>4</th>\n",
       "      <td>The Unrecovered (2007)</td>\n",
       "      <td>3</td>\n",
       "      <td>The film's title refers not only to the un-rec...</td>\n",
       "      <td>b'the film titl refer not onli the bodi ground...</td>\n",
       "    </tr>\n",
       "    <tr>\n",
       "      <th>...</th>\n",
       "      <td>...</td>\n",
       "      <td>...</td>\n",
       "      <td>...</td>\n",
       "      <td>...</td>\n",
       "    </tr>\n",
       "    <tr>\n",
       "      <th>54209</th>\n",
       "      <td>::: \"Bonino\" (1953)</td>\n",
       "      <td>1</td>\n",
       "      <td>This short-lived NBC live sitcom centered on B...</td>\n",
       "      <td>b'this nbc live sitcom center concert singer w...</td>\n",
       "    </tr>\n",
       "    <tr>\n",
       "      <th>54210</th>\n",
       "      <td>::: Dead Girls Don't Cry (????)</td>\n",
       "      <td>4</td>\n",
       "      <td>The NEXT Generation of EXPLOITATION. The siste...</td>\n",
       "      <td>b'the next generat the sister kapa bay soror h...</td>\n",
       "    </tr>\n",
       "    <tr>\n",
       "      <th>54211</th>\n",
       "      <td>::: Ronald Goedemondt: Ze bestaan echt (2008)</td>\n",
       "      <td>2</td>\n",
       "      <td>Ze bestaan echt, is a stand-up comedy about gr...</td>\n",
       "      <td>b'bestaan comedi about grow and face your free...</td>\n",
       "    </tr>\n",
       "    <tr>\n",
       "      <th>54212</th>\n",
       "      <td>::: Make Your Own Bed (1944)</td>\n",
       "      <td>1</td>\n",
       "      <td>Walter and Vivian live in the country and have...</td>\n",
       "      <td>b'walter and vivian live the countri and have ...</td>\n",
       "    </tr>\n",
       "    <tr>\n",
       "      <th>54213</th>\n",
       "      <td>::: Nature's Fury: Storm of the Century (2006)</td>\n",
       "      <td>24</td>\n",
       "      <td>On Labor Day Weekend, 1935, the most intense h...</td>\n",
       "      <td>b'labor day the most intens hurrican ever make...</td>\n",
       "    </tr>\n",
       "  </tbody>\n",
       "</table>\n",
       "<p>54214 rows × 4 columns</p>\n",
       "</div>"
      ],
      "text/plain": [
       "                                                Title  Genre  \\\n",
       "0                        Oscar et la dame rose (2009)      3   \n",
       "1                                        Cupid (1997)      0   \n",
       "2                    Young, Wild and Wonderful (1980)     13   \n",
       "3                               The Secret Sin (1915)      3   \n",
       "4                              The Unrecovered (2007)      3   \n",
       "...                                               ...    ...   \n",
       "54209                             ::: \"Bonino\" (1953)      1   \n",
       "54210                 ::: Dead Girls Don't Cry (????)      4   \n",
       "54211   ::: Ronald Goedemondt: Ze bestaan echt (2008)      2   \n",
       "54212                    ::: Make Your Own Bed (1944)      1   \n",
       "54213  ::: Nature's Fury: Storm of the Century (2006)     24   \n",
       "\n",
       "                                             Description  \\\n",
       "0      Listening in to a conversation between his doc...   \n",
       "1      A brother and sister with a past incestuous re...   \n",
       "2      As the bus empties the students for their fiel...   \n",
       "3      To help their unemployed father make ends meet...   \n",
       "4      The film's title refers not only to the un-rec...   \n",
       "...                                                  ...   \n",
       "54209  This short-lived NBC live sitcom centered on B...   \n",
       "54210  The NEXT Generation of EXPLOITATION. The siste...   \n",
       "54211  Ze bestaan echt, is a stand-up comedy about gr...   \n",
       "54212  Walter and Vivian live in the country and have...   \n",
       "54213  On Labor Day Weekend, 1935, the most intense h...   \n",
       "\n",
       "                                     Cleaned_Description  \n",
       "0      b'listen convers between his doctor and oscar ...  \n",
       "1      b'brother and sister with past incestu relatio...  \n",
       "2      b'the bus empti the student for their field tr...  \n",
       "3      b'help their unemploy father make end edith an...  \n",
       "4      b'the film titl refer not onli the bodi ground...  \n",
       "...                                                  ...  \n",
       "54209  b'this nbc live sitcom center concert singer w...  \n",
       "54210  b'the next generat the sister kapa bay soror h...  \n",
       "54211  b'bestaan comedi about grow and face your free...  \n",
       "54212  b'walter and vivian live the countri and have ...  \n",
       "54213  b'labor day the most intens hurrican ever make...  \n",
       "\n",
       "[54214 rows x 4 columns]"
      ]
     },
     "execution_count": 20,
     "metadata": {},
     "output_type": "execute_result"
    }
   ],
   "source": [
    "final_filtered_data"
   ]
  },
  {
   "cell_type": "code",
   "execution_count": 21,
   "id": "f856cde9-6c5e-43a4-89ed-e6a75051ceb7",
   "metadata": {
    "tags": []
   },
   "outputs": [
    {
     "data": {
      "text/plain": [
       "54214"
      ]
     },
     "execution_count": 21,
     "metadata": {},
     "output_type": "execute_result"
    }
   ],
   "source": [
    "conn = sqlite3.connect('final.sqlite')\n",
    "c = conn.cursor()\n",
    "conn.text_factory = str\n",
    "final_filtered_data.to_sql('Messages', conn,schema = None, if_exists = 'replace')"
   ]
  },
  {
   "cell_type": "code",
   "execution_count": 22,
   "id": "79c78c02-19d2-4175-a96b-260259b4c5ec",
   "metadata": {
    "tags": []
   },
   "outputs": [],
   "source": [
    "conn = sqlite3.connect('final.sqlite')\n",
    "final_filtered_data = pd.read_sql_query(\"\"\"\n",
    "SELECT *\n",
    "FROM messages\n",
    "\"\"\",conn)"
   ]
  },
  {
   "cell_type": "code",
   "execution_count": 23,
   "id": "c9a1553d-f47e-4d74-9c22-66b019afcffe",
   "metadata": {
    "tags": []
   },
   "outputs": [
    {
     "name": "stdout",
     "output_type": "stream",
     "text": [
      "thriller: 1591\n",
      "comedy: 7447\n",
      "documentary: 13096\n",
      "drama: 13613\n",
      "horror: 2204\n",
      "short: 5073\n",
      "western: 1032\n",
      "family: 784\n",
      "sport: 432\n",
      "romance: 672\n",
      "war: 132\n",
      "game-show: 194\n",
      "biography: 265\n",
      "adult: 590\n",
      "talk-show: 391\n",
      "action: 1315\n",
      "music: 731\n",
      "crime: 505\n",
      "animation: 498\n",
      "sci-fi: 647\n",
      "adventure: 775\n",
      "reality-tv: 884\n",
      "fantasy: 323\n",
      "mystery: 319\n",
      "history: 243\n",
      "news: 181\n",
      "musical: 277\n"
     ]
    }
   ],
   "source": [
    "for i in range(27):\n",
    "    count_result = pd.read_sql_query(f\"\"\"\n",
    "    SELECT count(*)\n",
    "    FROM messages\n",
    "    WHERE Genre = {i}\n",
    "    \"\"\", conn)\n",
    "    count_value = count_result.iloc[0, 0]  # Extract count value from DataFrame\n",
    "    print(f\"{genres[i]}: {count_value}\")"
   ]
  },
  {
   "cell_type": "code",
   "execution_count": 24,
   "id": "29a28193-0fdc-40a7-a07d-7fb7c84084f2",
   "metadata": {
    "tags": []
   },
   "outputs": [
    {
     "name": "stdout",
     "output_type": "stream",
     "text": [
      "thriller: [b'brother', b'and', b'sister', b'with', b'past', b'incestu', b'relationship', b'have', b'current', b'murder']\n",
      "comedy: [b'tough', b'econom', b'time', b'max', b'and', b'joey', b'have', b'all', b'but', b'run']\n",
      "documentary: [b'qualiti', b'control', b'consist', b'seri', b'singl', b'take', b'shot', b'film', b'the', b'summer']\n",
      "drama: [b'listen', b'convers', b'between', b'his', b'doctor', b'and', b'oscar', b'learn', b'what', b'nobodi']\n",
      "horror: [b'four', b'high', b'school', b'student', b'embark', b'terrifi', b'journey', b'through', b'shadowview', b'manor']\n",
      "short: [b'brian', b'wallac', b'cameraman', b'for', b'the', b'hit', b'ride', b'minut', b'was', b'haul']\n",
      "western: [b'santa', b'dolor', b'small', b'western', b'town', b'that', b'haven', b'for', b'outlaw', b'and']\n",
      "family: [b'lyle', b'licketti', b'never', b'ever', b'doe', b'his', b'whether', b'alien', b'who', b'stole']\n",
      "sport: [b'modern', b'roller', b'derbi', b'began', b'and', b'quick', b'spread', b'creat', b'hundr', b'place']\n",
      "romance: [b'heer', b'the', b'stori', b'two', b'after', b'the', b'mythic', b'punjabi', b'legend', b'heer']\n",
      "war: [b'this', b'sequel', b'film', b'the', b'black', b'dark', b'dawn', b'watch', b'how', b'the']\n",
      "game-show: [b'the', b'game', b'show', b'will', b'host', b'ace', b'host', b'and', b'celebr', b'das']\n",
      "biography: [b'set', b'dure', b'the', b'turmoil', b'the', b'stori', b'center', b'artist', b'and', b'enfant']\n",
      "adult: [b'the', b'bus', b'empti', b'the', b'student', b'for', b'their', b'field', b'trip', b'the']\n",
      "talk-show: [b'talk', b'the', b'town', b'cover', b'all', b'your', b'fashion', b'film', b'confer', b'and']\n",
      "action: [b'releas', b'from', b'prison', b'after', b'short', b'time', b'follow', b'his', b'fail', b'attempt']\n",
      "music: [b'park', b'west', b'hdnet', b'tape', b'the', b'derek', b'truck', b'band', b'perform', b'the']\n",
      "crime: [b'ron', b'petri', b'troubl', b'teen', b'whose', b'life', b'hang', b'hes', b'the', b'verg']\n",
      "animation: [b'the', b'stori', b'revolv', b'around', b'bird', b'call', b'hummi', b'who', b'not', b'happi']\n",
      "sci-fi: [b'the', b'martian', b'are', b'actual', b'protect', b'themselv', b'from', b'sinc', b'the', b'earth']\n",
      "adventure: [b'colm', b'bell', b'and', b'his', b'sister', b'lydia', b'wake', b'the', b'smell', b'smoke']\n",
      "reality-tv: [b'sudden', b'calamit', b'caus', b'great', b'loss', b'like', b'airplan', b'this', b'not', b'onli']\n",
      "fantasy: [b'wizard', b'attempt', b'captur', b'death', b'bargain', b'for', b'etern', b'life', b'trap', b'her']\n",
      "mystery: [b'diana', b'palm', b'paranorm', b'afterlif', b'research', b'and', b'author', b'set', b'spirit', b'after']\n",
      "history: [b'the', b'movi', b'tale', b'histor', b'event', b'the', b'battl', b'that', b'took', b'place']\n",
      "news: [b'the', b'rich', b'with', b'polit', b'insight', b'and', b'will', b'marri', b'journal', b'and']\n",
      "musical: [b'broadway', b'partner', b'vicki', b'lane', b'and', b'dan', b'christi', b'have', b'tiff', b'over']\n"
     ]
    }
   ],
   "source": [
    "for i in range(27):\n",
    "    print(f\"{genres[i]}: {genre_words[i][0:10]}\")"
   ]
  },
  {
   "cell_type": "code",
   "execution_count": 25,
   "id": "617fa67c-aeb8-478d-8b48-655de96a857b",
   "metadata": {
    "tags": []
   },
   "outputs": [
    {
     "data": {
      "text/plain": [
       "FreqDist({})"
      ]
     },
     "execution_count": 25,
     "metadata": {},
     "output_type": "execute_result"
    }
   ],
   "source": [
    "freq_dist_positive = nltk.FreqDist(all_spam_words)\n",
    "freq_dist_negative = nltk.FreqDist(all_normal_words)\n",
    "freq_dist_positive"
   ]
  },
  {
   "cell_type": "code",
   "execution_count": 26,
   "id": "752aa9bc-48ed-4b5e-9abd-e4afe4ab4033",
   "metadata": {
    "tags": []
   },
   "outputs": [],
   "source": [
    "freq_dist_genre = [[] for _ in range(27)]"
   ]
  },
  {
   "cell_type": "code",
   "execution_count": 27,
   "id": "7c524394-a6d6-4700-a606-43b278fa824a",
   "metadata": {
    "tags": []
   },
   "outputs": [],
   "source": [
    "for i in range(27):\n",
    "    freq_dist_genre[i] = nltk.FreqDist(genre_words[i])"
   ]
  },
  {
   "cell_type": "code",
   "execution_count": 28,
   "id": "af7942e5-cc07-4a2a-9fcf-ce9448b022c7",
   "metadata": {
    "tags": []
   },
   "outputs": [
    {
     "name": "stdout",
     "output_type": "stream",
     "text": [
      "Most common thriller words:  [(b'the', 8711), (b'and', 4890), (b'his', 2355), (b'her', 1866), (b'with', 1523), (b'that', 1414), (b'for', 1147), (b'she', 1071), (b'who', 925), (b'but', 812)]\n",
      "Most common comedy words:  [(b'the', 36115), (b'and', 22302), (b'his', 11320), (b'with', 7332), (b'her', 5510), (b'for', 5494), (b'that', 5201), (b'their', 4610), (b'who', 4047), (b'they', 4034)]\n",
      "Most common documentary words:  [(b'the', 99942), (b'and', 53076), (b'with', 11392), (b'for', 10199), (b'that', 9827), (b'their', 9183), (b'his', 9147), (b'from', 8677), (b'this', 8612), (b'film', 6576)]\n",
      "Most common drama words:  [(b'the', 78197), (b'and', 48808), (b'his', 24929), (b'her', 19903), (b'with', 15984), (b'for', 11476), (b'that', 11374), (b'she', 10998), (b'who', 9148), (b'their', 8361)]\n",
      "Most common horror words:  [(b'the', 14431), (b'and', 6901), (b'his', 2608), (b'her', 2264), (b'that', 2116), (b'with', 1975), (b'they', 1726), (b'for', 1661), (b'their', 1459), (b'who', 1267)]\n",
      "Most common short words:  [(b'the', 27111), (b'and', 14265), (b'his', 4736), (b'with', 3690), (b'her', 3173), (b'that', 3157), (b'for', 2940), (b'from', 2202), (b'this', 2153), (b'their', 2000)]\n",
      "Most common western words:  [(b'the', 8496), (b'and', 4919), (b'his', 2224), (b'with', 1062), (b'for', 1061), (b'that', 934), (b'but', 820), (b'has', 747), (b'who', 743), (b'when', 698)]\n",
      "Most common family words:  [(b'the', 4334), (b'and', 2860), (b'his', 854), (b'with', 755), (b'her', 679), (b'for', 653), (b'their', 517), (b'that', 499), (b'they', 425), (b'from', 400)]\n",
      "Most common sport words:  [(b'the', 2685), (b'and', 1308), (b'for', 341), (b'with', 318), (b'from', 257), (b'this', 202), (b'world', 182), (b'that', 177), (b'was', 170), (b'his', 160)]\n",
      "Most common romance words:  [(b'the', 3165), (b'and', 2503), (b'her', 1298), (b'his', 1041), (b'with', 931), (b'she', 741), (b'that', 667), (b'for', 660), (b'love', 572), (b'but', 488)]\n",
      "Most common war words:  [(b'the', 1267), (b'and', 456), (b'his', 129), (b'with', 110), (b'that', 100), (b'for', 94), (b'their', 90), (b'they', 86), (b'are', 85), (b'war', 84)]\n",
      "Most common game-show words:  [(b'the', 2074), (b'and', 599), (b'contest', 294), (b'they', 232), (b'for', 231), (b'with', 229), (b'team', 223), (b'answer', 205), (b'each', 202), (b'game', 190)]\n",
      "Most common biography words:  [(b'the', 1899), (b'and', 982), (b'his', 415), (b'with', 226), (b'for', 207), (b'from', 193), (b'her', 191), (b'that', 174), (b'was', 174), (b'this', 142)]\n",
      "Most common adult words:  [(b'the', 2606), (b'and', 1612), (b'her', 763), (b'with', 575), (b'his', 501), (b'for', 388), (b'she', 382), (b'their', 338), (b'are', 279), (b'that', 264)]\n",
      "Most common talk-show words:  [(b'the', 1808), (b'and', 1449), (b'with', 346), (b'show', 272), (b'from', 238), (b'for', 219), (b'that', 179), (b'their', 159), (b'talk', 145), (b'about', 140)]\n",
      "Most common action words:  [(b'the', 7770), (b'and', 4438), (b'his', 2195), (b'with', 1208), (b'for', 1002), (b'that', 876), (b'who', 771), (b'from', 640), (b'their', 633), (b'her', 585)]\n",
      "Most common music words:  [(b'the', 4268), (b'and', 2512), (b'with', 617), (b'music', 573), (b'from', 489), (b'for', 460), (b'his', 390), (b'perform', 380), (b'this', 378), (b'their', 351)]\n",
      "Most common crime words:  [(b'the', 3008), (b'and', 1426), (b'his', 780), (b'with', 426), (b'for', 364), (b'that', 349), (b'her', 324), (b'who', 284), (b'from', 231), (b'but', 231)]\n",
      "Most common animation words:  [(b'the', 2968), (b'and', 1668), (b'his', 583), (b'with', 448), (b'that', 331), (b'for', 309), (b'they', 276), (b'their', 276), (b'from', 273), (b'who', 237)]\n",
      "Most common sci-fi words:  [(b'the', 4143), (b'and', 1736), (b'his', 543), (b'that', 504), (b'with', 486), (b'their', 386), (b'they', 384), (b'for', 369), (b'from', 357), (b'are', 338)]\n",
      "Most common adventure words:  [(b'the', 4735), (b'and', 2572), (b'his', 838), (b'her', 628), (b'with', 619), (b'for', 530), (b'that', 464), (b'who', 382), (b'they', 381), (b'their', 377)]\n",
      "Most common reality-tv words:  [(b'the', 4846), (b'and', 3160), (b'their', 811), (b'with', 751), (b'for', 636), (b'they', 537), (b'will', 530), (b'that', 509), (b'from', 441), (b'are', 432)]\n",
      "Most common fantasy words:  [(b'the', 2140), (b'and', 1070), (b'his', 350), (b'her', 325), (b'with', 273), (b'that', 247), (b'she', 235), (b'for', 202), (b'from', 181), (b'their', 179)]\n",
      "Most common mystery words:  [(b'the', 2300), (b'and', 1072), (b'his', 438), (b'her', 365), (b'that', 341), (b'with', 312), (b'for', 232), (b'who', 221), (b'she', 198), (b'from', 177)]\n",
      "Most common history words:  [(b'the', 1965), (b'and', 880), (b'his', 177), (b'with', 153), (b'for', 145), (b'that', 144), (b'from', 141), (b'this', 124), (b'was', 117), (b'their', 109)]\n",
      "Most common news words:  [(b'the', 875), (b'and', 556), (b'with', 128), (b'that', 113), (b'for', 107), (b'from', 94), (b'news', 82), (b'are', 79), (b'was', 67), (b'this', 63)]\n",
      "Most common musical words:  [(b'the', 1553), (b'and', 955), (b'with', 294), (b'his', 293), (b'her', 253), (b'for', 203), (b'she', 178), (b'music', 177), (b'that', 168), (b'from', 144)]\n"
     ]
    }
   ],
   "source": [
    "for i in range(27):\n",
    "    print(f\"Most common {genres[i]} words: \",freq_dist_genre[i].most_common()[:10])"
   ]
  },
  {
   "cell_type": "markdown",
   "id": "e5656bad-705f-4b89-a485-c461516621f0",
   "metadata": {},
   "source": [
    "# TF-IDF"
   ]
  },
  {
   "cell_type": "code",
   "execution_count": 44,
   "id": "54b248b4-63e2-4b2b-9ee6-a7295cba37b1",
   "metadata": {
    "tags": []
   },
   "outputs": [],
   "source": [
    "tf_idf_vect = TfidfVectorizer(ngram_range = (1,2))\n",
    "final_tf_idf = tf_idf_vect.fit_transform(final_filtered_data['Cleaned_Description'].values)"
   ]
  },
  {
   "cell_type": "code",
   "execution_count": 45,
   "id": "f7df166e-1a5b-4e51-b85a-ff27694ef9f6",
   "metadata": {
    "tags": []
   },
   "outputs": [
    {
     "data": {
      "text/plain": [
       "<54214x1371893 sparse matrix of type '<class 'numpy.float64'>'\n",
       "\twith 6409619 stored elements in Compressed Sparse Row format>"
      ]
     },
     "execution_count": 45,
     "metadata": {},
     "output_type": "execute_result"
    }
   ],
   "source": [
    "final_tf_idf"
   ]
  },
  {
   "cell_type": "code",
   "execution_count": 46,
   "id": "6b72dd4f-2073-4ea9-8d65-6563a3338152",
   "metadata": {
    "tags": []
   },
   "outputs": [
    {
     "data": {
      "text/plain": [
       "1371893"
      ]
     },
     "execution_count": 46,
     "metadata": {},
     "output_type": "execute_result"
    }
   ],
   "source": [
    "features = tf_idf_vect.get_feature_names_out()\n",
    "len(features)"
   ]
  },
  {
   "cell_type": "code",
   "execution_count": 47,
   "id": "03564f27-e72a-43c9-ab98-3ab80f2c710f",
   "metadata": {
    "tags": []
   },
   "outputs": [
    {
     "data": {
      "text/plain": [
       "array(['avi bridg', 'avi director', 'avi effort', 'avi experi',\n",
       "       'avi india', 'avi jewish', 'avi learn', 'avi leav', 'avi lewi',\n",
       "       'avi quick'], dtype=object)"
      ]
     },
     "execution_count": 47,
     "metadata": {},
     "output_type": "execute_result"
    }
   ],
   "source": [
    "features[100000:100010]"
   ]
  },
  {
   "cell_type": "code",
   "execution_count": 48,
   "id": "21f1c650-7af6-47bd-bdaa-a55f9e59882d",
   "metadata": {
    "tags": []
   },
   "outputs": [
    {
     "name": "stdout",
     "output_type": "stream",
     "text": [
      "1371893\n"
     ]
    }
   ],
   "source": [
    "print(len(final_tf_idf[3,:].toarray()[0]))"
   ]
  },
  {
   "cell_type": "code",
   "execution_count": 49,
   "id": "41a296e4-62ad-4d5f-927d-ab0b4bd207b5",
   "metadata": {
    "tags": []
   },
   "outputs": [],
   "source": [
    "def top_tfidf_features(row,features,top_n=25):\n",
    "    topn_ids = np.argsort(row)[::-1][:top_n]\n",
    "    top_feats = [(features[i], row[i]) for i in topn_ids]\n",
    "    df = pd.DataFrame(top_feats)\n",
    "    df.columns = ['feature', 'tfidf']\n",
    "    return df\n",
    "\n",
    "top_tfidf = top_tfidf_features(final_tf_idf[1,:].toarray()[0], features,25)"
   ]
  },
  {
   "cell_type": "code",
   "execution_count": 50,
   "id": "bd1f812d-34db-48ea-8cdf-a5f36cef6233",
   "metadata": {
    "tags": []
   },
   "outputs": [
    {
     "data": {
      "text/html": [
       "<div>\n",
       "<style scoped>\n",
       "    .dataframe tbody tr th:only-of-type {\n",
       "        vertical-align: middle;\n",
       "    }\n",
       "\n",
       "    .dataframe tbody tr th {\n",
       "        vertical-align: top;\n",
       "    }\n",
       "\n",
       "    .dataframe thead th {\n",
       "        text-align: right;\n",
       "    }\n",
       "</style>\n",
       "<table border=\"1\" class=\"dataframe\">\n",
       "  <thead>\n",
       "    <tr style=\"text-align: right;\">\n",
       "      <th></th>\n",
       "      <th>feature</th>\n",
       "      <th>tfidf</th>\n",
       "    </tr>\n",
       "  </thead>\n",
       "  <tbody>\n",
       "    <tr>\n",
       "      <th>0</th>\n",
       "      <td>murder the</td>\n",
       "      <td>0.268258</td>\n",
       "    </tr>\n",
       "    <tr>\n",
       "      <th>1</th>\n",
       "      <td>murder</td>\n",
       "      <td>0.262086</td>\n",
       "    </tr>\n",
       "    <tr>\n",
       "      <th>2</th>\n",
       "      <td>women who</td>\n",
       "      <td>0.249931</td>\n",
       "    </tr>\n",
       "    <tr>\n",
       "      <th>3</th>\n",
       "      <td>the women</td>\n",
       "      <td>0.241080</td>\n",
       "    </tr>\n",
       "    <tr>\n",
       "      <th>4</th>\n",
       "      <td>past incestu</td>\n",
       "      <td>0.225027</td>\n",
       "    </tr>\n",
       "    <tr>\n",
       "      <th>5</th>\n",
       "      <td>have current</td>\n",
       "      <td>0.225027</td>\n",
       "    </tr>\n",
       "    <tr>\n",
       "      <th>6</th>\n",
       "      <td>current murder</td>\n",
       "      <td>0.216886</td>\n",
       "    </tr>\n",
       "    <tr>\n",
       "      <th>7</th>\n",
       "      <td>murder murder</td>\n",
       "      <td>0.211110</td>\n",
       "    </tr>\n",
       "    <tr>\n",
       "      <th>8</th>\n",
       "      <td>incestu relationship</td>\n",
       "      <td>0.199874</td>\n",
       "    </tr>\n",
       "    <tr>\n",
       "      <th>9</th>\n",
       "      <td>relationship have</td>\n",
       "      <td>0.199874</td>\n",
       "    </tr>\n",
       "    <tr>\n",
       "      <th>10</th>\n",
       "      <td>she murder</td>\n",
       "      <td>0.197193</td>\n",
       "    </tr>\n",
       "    <tr>\n",
       "      <th>11</th>\n",
       "      <td>who reject</td>\n",
       "      <td>0.192712</td>\n",
       "    </tr>\n",
       "    <tr>\n",
       "      <th>12</th>\n",
       "      <td>sister with</td>\n",
       "      <td>0.187445</td>\n",
       "    </tr>\n",
       "    <tr>\n",
       "      <th>13</th>\n",
       "      <td>reject him</td>\n",
       "      <td>0.180911</td>\n",
       "    </tr>\n",
       "    <tr>\n",
       "      <th>14</th>\n",
       "      <td>with past</td>\n",
       "      <td>0.179825</td>\n",
       "    </tr>\n",
       "    <tr>\n",
       "      <th>15</th>\n",
       "      <td>incestu</td>\n",
       "      <td>0.177816</td>\n",
       "    </tr>\n",
       "    <tr>\n",
       "      <th>16</th>\n",
       "      <td>too close</td>\n",
       "      <td>0.176882</td>\n",
       "    </tr>\n",
       "    <tr>\n",
       "      <th>17</th>\n",
       "      <td>women</td>\n",
       "      <td>0.168185</td>\n",
       "    </tr>\n",
       "    <tr>\n",
       "      <th>18</th>\n",
       "      <td>get too</td>\n",
       "      <td>0.166994</td>\n",
       "    </tr>\n",
       "    <tr>\n",
       "      <th>19</th>\n",
       "      <td>and sister</td>\n",
       "      <td>0.144386</td>\n",
       "    </tr>\n",
       "    <tr>\n",
       "      <th>20</th>\n",
       "      <td>who get</td>\n",
       "      <td>0.136426</td>\n",
       "    </tr>\n",
       "    <tr>\n",
       "      <th>21</th>\n",
       "      <td>brother and</td>\n",
       "      <td>0.122327</td>\n",
       "    </tr>\n",
       "    <tr>\n",
       "      <th>22</th>\n",
       "      <td>reject</td>\n",
       "      <td>0.121443</td>\n",
       "    </tr>\n",
       "    <tr>\n",
       "      <th>23</th>\n",
       "      <td>current</td>\n",
       "      <td>0.104185</td>\n",
       "    </tr>\n",
       "    <tr>\n",
       "      <th>24</th>\n",
       "      <td>him and</td>\n",
       "      <td>0.100109</td>\n",
       "    </tr>\n",
       "  </tbody>\n",
       "</table>\n",
       "</div>"
      ],
      "text/plain": [
       "                 feature     tfidf\n",
       "0             murder the  0.268258\n",
       "1                 murder  0.262086\n",
       "2              women who  0.249931\n",
       "3              the women  0.241080\n",
       "4           past incestu  0.225027\n",
       "5           have current  0.225027\n",
       "6         current murder  0.216886\n",
       "7          murder murder  0.211110\n",
       "8   incestu relationship  0.199874\n",
       "9      relationship have  0.199874\n",
       "10            she murder  0.197193\n",
       "11            who reject  0.192712\n",
       "12           sister with  0.187445\n",
       "13            reject him  0.180911\n",
       "14             with past  0.179825\n",
       "15               incestu  0.177816\n",
       "16             too close  0.176882\n",
       "17                 women  0.168185\n",
       "18               get too  0.166994\n",
       "19            and sister  0.144386\n",
       "20               who get  0.136426\n",
       "21           brother and  0.122327\n",
       "22                reject  0.121443\n",
       "23               current  0.104185\n",
       "24               him and  0.100109"
      ]
     },
     "execution_count": 50,
     "metadata": {},
     "output_type": "execute_result"
    }
   ],
   "source": [
    "top_tfidf"
   ]
  },
  {
   "cell_type": "code",
   "execution_count": 51,
   "id": "32d7a5c9-dcb8-4b2d-bcb4-fc6547cf0fde",
   "metadata": {
    "tags": []
   },
   "outputs": [],
   "source": [
    "from sklearn.model_selection import train_test_split\n",
    "from sklearn.neighbors import KNeighborsClassifier\n",
    "from sklearn.metrics import accuracy_score\n",
    "from sklearn.model_selection import cross_val_score\n",
    "from collections import Counter\n",
    "from sklearn.naive_bayes import BernoulliNB\n",
    "from sklearn.svm import SVC\n",
    "from sklearn.metrics import confusion_matrix\n",
    "from sklearn.metrics import f1_score"
   ]
  },
  {
   "cell_type": "code",
   "execution_count": 52,
   "id": "25809537-ab86-4634-ab3d-305981c6a403",
   "metadata": {
    "tags": []
   },
   "outputs": [
    {
     "data": {
      "text/plain": [
       "<54214x1371893 sparse matrix of type '<class 'numpy.float64'>'\n",
       "\twith 6409619 stored elements in Compressed Sparse Row format>"
      ]
     },
     "execution_count": 52,
     "metadata": {},
     "output_type": "execute_result"
    }
   ],
   "source": [
    "final_tf_idf"
   ]
  },
  {
   "cell_type": "code",
   "execution_count": 53,
   "id": "7c0e6947-ee66-421a-8eda-ea2255c9601c",
   "metadata": {
    "tags": []
   },
   "outputs": [],
   "source": [
    "y_final = final_filtered_data['Genre']"
   ]
  },
  {
   "cell_type": "code",
   "execution_count": 54,
   "id": "dafd4b9d-fd3f-4904-80a3-11d90e2ff01c",
   "metadata": {
    "tags": []
   },
   "outputs": [],
   "source": [
    "x_train, x_test, y_train, y_test = train_test_split(final_tf_idf,y_final,train_size = 0.7,random_state = 42) "
   ]
  },
  {
   "cell_type": "markdown",
   "id": "7299e1bb-a294-45dd-a223-3d8a2e953adf",
   "metadata": {},
   "source": [
    "### XGBoost"
   ]
  },
  {
   "cell_type": "code",
   "execution_count": 55,
   "id": "3b70dab6-2db5-44bc-9cba-a26c58df076f",
   "metadata": {
    "tags": []
   },
   "outputs": [],
   "source": [
    "from xgboost import XGBClassifier\n",
    "from sklearn.model_selection import cross_validate\n",
    "import seaborn as sbn"
   ]
  },
  {
   "cell_type": "code",
   "execution_count": 56,
   "id": "e5f07dc7-1c31-4a74-8c81-c934a93fc8e8",
   "metadata": {
    "tags": []
   },
   "outputs": [],
   "source": [
    "model = XGBClassifier()"
   ]
  },
  {
   "cell_type": "code",
   "execution_count": 57,
   "id": "99fbae23-bc34-4503-9e4b-85f2c96976d4",
   "metadata": {
    "tags": []
   },
   "outputs": [
    {
     "data": {
      "text/html": [
       "<style>#sk-container-id-1 {color: black;}#sk-container-id-1 pre{padding: 0;}#sk-container-id-1 div.sk-toggleable {background-color: white;}#sk-container-id-1 label.sk-toggleable__label {cursor: pointer;display: block;width: 100%;margin-bottom: 0;padding: 0.3em;box-sizing: border-box;text-align: center;}#sk-container-id-1 label.sk-toggleable__label-arrow:before {content: \"▸\";float: left;margin-right: 0.25em;color: #696969;}#sk-container-id-1 label.sk-toggleable__label-arrow:hover:before {color: black;}#sk-container-id-1 div.sk-estimator:hover label.sk-toggleable__label-arrow:before {color: black;}#sk-container-id-1 div.sk-toggleable__content {max-height: 0;max-width: 0;overflow: hidden;text-align: left;background-color: #f0f8ff;}#sk-container-id-1 div.sk-toggleable__content pre {margin: 0.2em;color: black;border-radius: 0.25em;background-color: #f0f8ff;}#sk-container-id-1 input.sk-toggleable__control:checked~div.sk-toggleable__content {max-height: 200px;max-width: 100%;overflow: auto;}#sk-container-id-1 input.sk-toggleable__control:checked~label.sk-toggleable__label-arrow:before {content: \"▾\";}#sk-container-id-1 div.sk-estimator input.sk-toggleable__control:checked~label.sk-toggleable__label {background-color: #d4ebff;}#sk-container-id-1 div.sk-label input.sk-toggleable__control:checked~label.sk-toggleable__label {background-color: #d4ebff;}#sk-container-id-1 input.sk-hidden--visually {border: 0;clip: rect(1px 1px 1px 1px);clip: rect(1px, 1px, 1px, 1px);height: 1px;margin: -1px;overflow: hidden;padding: 0;position: absolute;width: 1px;}#sk-container-id-1 div.sk-estimator {font-family: monospace;background-color: #f0f8ff;border: 1px dotted black;border-radius: 0.25em;box-sizing: border-box;margin-bottom: 0.5em;}#sk-container-id-1 div.sk-estimator:hover {background-color: #d4ebff;}#sk-container-id-1 div.sk-parallel-item::after {content: \"\";width: 100%;border-bottom: 1px solid gray;flex-grow: 1;}#sk-container-id-1 div.sk-label:hover label.sk-toggleable__label {background-color: #d4ebff;}#sk-container-id-1 div.sk-serial::before {content: \"\";position: absolute;border-left: 1px solid gray;box-sizing: border-box;top: 0;bottom: 0;left: 50%;z-index: 0;}#sk-container-id-1 div.sk-serial {display: flex;flex-direction: column;align-items: center;background-color: white;padding-right: 0.2em;padding-left: 0.2em;position: relative;}#sk-container-id-1 div.sk-item {position: relative;z-index: 1;}#sk-container-id-1 div.sk-parallel {display: flex;align-items: stretch;justify-content: center;background-color: white;position: relative;}#sk-container-id-1 div.sk-item::before, #sk-container-id-1 div.sk-parallel-item::before {content: \"\";position: absolute;border-left: 1px solid gray;box-sizing: border-box;top: 0;bottom: 0;left: 50%;z-index: -1;}#sk-container-id-1 div.sk-parallel-item {display: flex;flex-direction: column;z-index: 1;position: relative;background-color: white;}#sk-container-id-1 div.sk-parallel-item:first-child::after {align-self: flex-end;width: 50%;}#sk-container-id-1 div.sk-parallel-item:last-child::after {align-self: flex-start;width: 50%;}#sk-container-id-1 div.sk-parallel-item:only-child::after {width: 0;}#sk-container-id-1 div.sk-dashed-wrapped {border: 1px dashed gray;margin: 0 0.4em 0.5em 0.4em;box-sizing: border-box;padding-bottom: 0.4em;background-color: white;}#sk-container-id-1 div.sk-label label {font-family: monospace;font-weight: bold;display: inline-block;line-height: 1.2em;}#sk-container-id-1 div.sk-label-container {text-align: center;}#sk-container-id-1 div.sk-container {/* jupyter's `normalize.less` sets `[hidden] { display: none; }` but bootstrap.min.css set `[hidden] { display: none !important; }` so we also need the `!important` here to be able to override the default hidden behavior on the sphinx rendered scikit-learn.org. See: https://github.com/scikit-learn/scikit-learn/issues/21755 */display: inline-block !important;position: relative;}#sk-container-id-1 div.sk-text-repr-fallback {display: none;}</style><div id=\"sk-container-id-1\" class=\"sk-top-container\"><div class=\"sk-text-repr-fallback\"><pre>XGBClassifier(base_score=None, booster=None, callbacks=None,\n",
       "              colsample_bylevel=None, colsample_bynode=None,\n",
       "              colsample_bytree=None, early_stopping_rounds=None,\n",
       "              enable_categorical=False, eval_metric=None, feature_types=None,\n",
       "              gamma=None, gpu_id=None, grow_policy=None, importance_type=None,\n",
       "              interaction_constraints=None, learning_rate=None, max_bin=None,\n",
       "              max_cat_threshold=None, max_cat_to_onehot=None,\n",
       "              max_delta_step=None, max_depth=None, max_leaves=None,\n",
       "              min_child_weight=None, missing=nan, monotone_constraints=None,\n",
       "              n_estimators=100, n_jobs=None, num_parallel_tree=None,\n",
       "              objective=&#x27;multi:softprob&#x27;, predictor=None, ...)</pre><b>In a Jupyter environment, please rerun this cell to show the HTML representation or trust the notebook. <br />On GitHub, the HTML representation is unable to render, please try loading this page with nbviewer.org.</b></div><div class=\"sk-container\" hidden><div class=\"sk-item\"><div class=\"sk-estimator sk-toggleable\"><input class=\"sk-toggleable__control sk-hidden--visually\" id=\"sk-estimator-id-1\" type=\"checkbox\" checked><label for=\"sk-estimator-id-1\" class=\"sk-toggleable__label sk-toggleable__label-arrow\">XGBClassifier</label><div class=\"sk-toggleable__content\"><pre>XGBClassifier(base_score=None, booster=None, callbacks=None,\n",
       "              colsample_bylevel=None, colsample_bynode=None,\n",
       "              colsample_bytree=None, early_stopping_rounds=None,\n",
       "              enable_categorical=False, eval_metric=None, feature_types=None,\n",
       "              gamma=None, gpu_id=None, grow_policy=None, importance_type=None,\n",
       "              interaction_constraints=None, learning_rate=None, max_bin=None,\n",
       "              max_cat_threshold=None, max_cat_to_onehot=None,\n",
       "              max_delta_step=None, max_depth=None, max_leaves=None,\n",
       "              min_child_weight=None, missing=nan, monotone_constraints=None,\n",
       "              n_estimators=100, n_jobs=None, num_parallel_tree=None,\n",
       "              objective=&#x27;multi:softprob&#x27;, predictor=None, ...)</pre></div></div></div></div></div>"
      ],
      "text/plain": [
       "XGBClassifier(base_score=None, booster=None, callbacks=None,\n",
       "              colsample_bylevel=None, colsample_bynode=None,\n",
       "              colsample_bytree=None, early_stopping_rounds=None,\n",
       "              enable_categorical=False, eval_metric=None, feature_types=None,\n",
       "              gamma=None, gpu_id=None, grow_policy=None, importance_type=None,\n",
       "              interaction_constraints=None, learning_rate=None, max_bin=None,\n",
       "              max_cat_threshold=None, max_cat_to_onehot=None,\n",
       "              max_delta_step=None, max_depth=None, max_leaves=None,\n",
       "              min_child_weight=None, missing=nan, monotone_constraints=None,\n",
       "              n_estimators=100, n_jobs=None, num_parallel_tree=None,\n",
       "              objective='multi:softprob', predictor=None, ...)"
      ]
     },
     "execution_count": 57,
     "metadata": {},
     "output_type": "execute_result"
    }
   ],
   "source": [
    "model.fit(x_train,y_train)"
   ]
  },
  {
   "cell_type": "code",
   "execution_count": 58,
   "id": "1bf468f2-c7ef-4d1b-bcff-94b2e13b1506",
   "metadata": {
    "tags": []
   },
   "outputs": [],
   "source": [
    "predictions = model.predict(x_test)"
   ]
  },
  {
   "cell_type": "code",
   "execution_count": 59,
   "id": "8579a3d3-f6af-4777-abf3-fffd0af058c5",
   "metadata": {
    "tags": []
   },
   "outputs": [
    {
     "name": "stdout",
     "output_type": "stream",
     "text": [
      "Accuracy: 0.5326775284352905\n"
     ]
    }
   ],
   "source": [
    "accuracy = accuracy_score(predictions,y_test)\n",
    "print(f\"Accuracy: {accuracy}\")"
   ]
  },
  {
   "cell_type": "code",
   "execution_count": 60,
   "id": "5befe8a7-cf1e-4be5-a9b7-c551e68b0f86",
   "metadata": {
    "tags": []
   },
   "outputs": [],
   "source": [
    "confusion_mat_xgbc = confusion_matrix(predictions,y_test)"
   ]
  },
  {
   "cell_type": "code",
   "execution_count": 61,
   "id": "3a3477b5-9d95-4bf9-bf75-9fc7943587a3",
   "metadata": {
    "tags": []
   },
   "outputs": [],
   "source": [
    "class_labels = genres"
   ]
  },
  {
   "cell_type": "code",
   "execution_count": 62,
   "id": "3a201377-cf99-44d7-a1fb-33cee265eb0d",
   "metadata": {
    "tags": []
   },
   "outputs": [],
   "source": [
    "def plot_confusion_matrix(cm):\n",
    "    df_cm = pd.DataFrame(cm, index = [i for i in class_labels],\n",
    "                         columns = [i for i in class_labels])\n",
    "    plt.figure(figsize = (15,15))\n",
    "    sbn.heatmap(df_cm, annot=True,fmt ='d')"
   ]
  },
  {
   "cell_type": "code",
   "execution_count": 63,
   "id": "d39f2e2b-de95-4d0e-8165-23ff9edc17a1",
   "metadata": {
    "tags": []
   },
   "outputs": [
    {
     "data": {
      "image/png": "[encoded data removed]",
      "text/plain": [
       "<Figure size 1500x1500 with 2 Axes>"
      ]
     },
     "metadata": {},
     "output_type": "display_data"
    }
   ],
   "source": [
    "plot_confusion_matrix(confusion_mat_xgbc)"
   ]
  },
  {
   "cell_type": "code",
   "execution_count": 64,
   "id": "8c86634e-732b-4322-9aac-745477d69134",
   "metadata": {
    "tags": []
   },
   "outputs": [],
   "source": [
    "from sklearn.model_selection import train_test_split\n",
    "import optuna\n",
    "from sklearn.metrics import confusion_matrix\n",
    "import numpy as np\n",
    "from sklearn.model_selection import cross_validate\n",
    "from xgboost import XGBClassifier"
   ]
  },
  {
   "cell_type": "markdown",
   "id": "649d2088-311a-4f09-b0db-607cf671a2c3",
   "metadata": {},
   "source": [
    "def objective(trial):\n",
    "    max_depth = trial.suggest_int(\"max_depth\", 10,30)\n",
    "    min_child_weight = trial.suggest_float(\"min_child_weight\", 0, 10)\n",
    "    gamma = trial.suggest_float(\"gamma\", 0, 1)\n",
    "    colsample_bytree = trial.suggest_float(\"colsample_bytree\", 0, 1)\n",
    "    subsample = trial.suggest_float(\"subsample\", 0, 1)\n",
    "    reg_alpha = trial.suggest_float(\"reg_alpha\", 0, 1)\n",
    "    n_estimators = trial.suggest_int(\"n_estimators\", 64, 128)\n",
    "    \n",
    "    params = {\n",
    "        \"max_depth\": max_depth,\n",
    "        \"min_child_weight\": min_child_weight,\n",
    "        \"gamma\": gamma,\n",
    "        \"colsample_bytree\": colsample_bytree,\n",
    "        \"subsample\": subsample,\n",
    "        \"reg_alpha\": reg_alpha,\n",
    "        \"n_estimators\": n_estimators,\n",
    "        \"num_class\": 27\n",
    "    }\n",
    "    \n",
    "    params[\"learning_rate\"] = 0.1\n",
    "    params[\"objective\"] = \"multi:softmax\"\n",
    "    params[\"nthread\"] = -1\n",
    "    \n",
    "    model = XGBClassifier(**params)\n",
    "\n",
    "    cv_results = cross_validate(model, x_train, y_train, cv=3, scoring='accuracy')\n",
    "    validation_score = np.mean(cv_results['test_score'])\n",
    "    \n",
    "    return -validation_score  # Optimize for the negative of the validation score\n",
    "\n",
    "sampler = optuna.samplers.TPESampler(seed=42)\n",
    "study = optuna.create_study(direction=\"minimize\", sampler=sampler)  # Minimize the negative validation score\n",
    "study.optimize(objective, n_trials=500)\n",
    "df_study = study.trials_dataframe()\n",
    "df_study_best = df_study.sort_values(by='value', ascending=True)\n",
    "best_params = study.best_params\n",
    "print(best_params)\n"
   ]
  },
  {
   "cell_type": "markdown",
   "id": "5cf61386-f008-4fcd-b9e1-028b9118da31",
   "metadata": {},
   "source": [
    "## Similar results were obtained even after fine-tuning"
   ]
  },
  {
   "cell_type": "markdown",
   "id": "2c13e298-5a1b-4c88-b548-564953702787",
   "metadata": {},
   "source": [
    "# Naive Bayes"
   ]
  },
  {
   "cell_type": "code",
   "execution_count": 69,
   "id": "2a3bf295-5a73-4fe6-b7ee-4418d277fafe",
   "metadata": {
    "tags": []
   },
   "outputs": [],
   "source": [
    "from sklearn.naive_bayes import MultinomialNB\n",
    "from sklearn.naive_bayes import BernoulliNB"
   ]
  },
  {
   "cell_type": "code",
   "execution_count": 71,
   "id": "02bb3532-932a-493a-9b9d-9271090a3a86",
   "metadata": {
    "tags": []
   },
   "outputs": [],
   "source": [
    "gnb = BernoulliNB()\n",
    "y_pred = gnb.fit(x_train, y_train).predict(x_test)"
   ]
  },
  {
   "cell_type": "code",
   "execution_count": null,
   "id": "e6329e68-3a29-4bcd-a3ce-90efe2d6d085",
   "metadata": {},
   "outputs": [],
   "source": []
  },
  {
   "cell_type": "code",
   "execution_count": null,
   "id": "35a453bd-6d17-45a1-8ab8-2ea8852c92ca",
   "metadata": {},
   "outputs": [],
   "source": []
  },
  {
   "cell_type": "code",
   "execution_count": null,
   "id": "50d6c29a-c4d2-463c-b615-5628425f1491",
   "metadata": {},
   "outputs": [],
   "source": []
  },
  {
   "cell_type": "code",
   "execution_count": null,
   "id": "3412e41d-eb42-4706-9fff-9f67a8f6f629",
   "metadata": {},
   "outputs": [],
   "source": []
  },
  {
   "cell_type": "code",
   "execution_count": null,
   "id": "3cbcc6fe-c4f9-4277-ae97-244621ff8702",
   "metadata": {},
   "outputs": [],
   "source": []
  },
  {
   "cell_type": "code",
   "execution_count": null,
   "id": "c7360ef3-3d5d-496e-bb63-bb273c1cca49",
   "metadata": {},
   "outputs": [],
   "source": []
  },
  {
   "cell_type": "code",
   "execution_count": null,
   "id": "97d7963f-749e-4521-8dbf-751da4ae6a48",
   "metadata": {},
   "outputs": [],
   "source": []
  },
  {
   "cell_type": "code",
   "execution_count": null,
   "id": "46d4bbdc-d820-4ff2-87f6-34fd37ceada4",
   "metadata": {},
   "outputs": [],
   "source": []
  }
 ],
 "metadata": {
  "kernelspec": {
   "display_name": "Python 3 (ipykernel)",
   "language": "python",
   "name": "python3"
  },
  "language_info": {
   "codemirror_mode": {
    "name": "ipython",
    "version": 3
   },
   "file_extension": ".py",
   "mimetype": "text/x-python",
   "name": "python",
   "nbconvert_exporter": "python",
   "pygments_lexer": "ipython3",
   "version": "3.11.5"
  }
 },
 "nbformat": 4,
 "nbformat_minor": 5
}
